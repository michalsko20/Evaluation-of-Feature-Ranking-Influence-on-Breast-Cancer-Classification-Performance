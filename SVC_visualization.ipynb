{
 "cells": [
  {
   "cell_type": "markdown",
   "metadata": {},
   "source": [
    "### SVC"
   ]
  },
  {
   "cell_type": "code",
   "execution_count": 6,
   "metadata": {},
   "outputs": [],
   "source": [
    "from models.SCV_rankings_classes import SVCFeatureRankings, SVC_Lime_Analyzer, PCA_SHAP_SVC_Ranker"
   ]
  },
  {
   "cell_type": "code",
   "execution_count": 7,
   "metadata": {},
   "outputs": [],
   "source": [
    "import pandas as pd\n",
    "\n",
    "pd.set_option('display.max_rows', 500)  # Show up to 500 rows\n",
    "pd.set_option('display.max_columns', 100)  # Show up to 100 columns\n",
    "pd.set_option('display.width', 1000)  # Adjust output width\n",
    "pd.set_option('display.max_colwidth', None)  # Prevent truncation of column text"
   ]
  },
  {
   "cell_type": "code",
   "execution_count": 8,
   "metadata": {},
   "outputs": [
    {
     "name": "stdout",
     "output_type": "stream",
     "text": [
      "Added 33 new rows for class G1.\n",
      "Current class distribution:\n",
      " target\n",
      "G3    75\n",
      "G2    57\n",
      "G1    53\n",
      "Name: count, dtype: int64\n",
      "(185, 261)\n",
      "\n",
      "=== RANKING: Filter_MI ===\n",
      "     ranking  num_features  cv_accuracy  cv_f1_macro    cv_mcc\n",
      "0  Filter_MI             5     0.796782     0.794167  0.700310\n",
      "1  Filter_MI            10     0.749655     0.745444  0.633701\n",
      "2  Filter_MI            20     0.837701     0.848769  0.777285\n",
      "3  Filter_MI            30     0.851034     0.857711  0.778067\n",
      "4  Filter_MI            40     0.830575     0.833477  0.749111\n",
      "5  Filter_MI            50     0.823908     0.826846  0.740453\n",
      "6  Filter_MI            60     0.824138     0.826291  0.738818\n",
      "7  Filter_MI            80     0.817011     0.816740  0.728309\n",
      "8  Filter_MI           100     0.769885     0.760907  0.660780\n",
      "Best k for Filter_MI: 30\n",
      "[Filter_MI] Test results for k=30 => ACC=0.838, F1=0.832, MCC=0.755\n",
      "\n",
      "=== RANKING: SVC_coef ===\n",
      "    ranking  num_features  cv_accuracy  cv_f1_macro    cv_mcc\n",
      "0  SVC_coef             5     0.682299     0.668452  0.521354\n",
      "1  SVC_coef            10     0.777701     0.782002  0.663276\n",
      "2  SVC_coef            20     0.736552     0.735328  0.601716\n",
      "3  SVC_coef            30     0.838161     0.834262  0.769665\n",
      "4  SVC_coef            40     0.851954     0.845206  0.784505\n",
      "5  SVC_coef            50     0.851724     0.843929  0.786972\n",
      "6  SVC_coef            60     0.851494     0.846716  0.782160\n",
      "7  SVC_coef            80     0.864828     0.860957  0.803010\n",
      "8  SVC_coef           100     0.885747     0.883777  0.832333\n",
      "Best k for SVC_coef: 100\n",
      "[SVC_coef] Test results for k=100 => ACC=0.811, F1=0.814, MCC=0.712\n",
      "\n",
      "=== RANKING: RFE ===\n",
      "  ranking  num_features  cv_accuracy  cv_f1_macro    cv_mcc\n",
      "0     RFE             5     0.770115     0.780838  0.659117\n",
      "1     RFE            10     0.831034     0.832943  0.747280\n",
      "2     RFE            20     0.851724     0.852437  0.782336\n",
      "3     RFE            30     0.871954     0.869688  0.813362\n",
      "4     RFE            40     0.871494     0.868603  0.814565\n",
      "5     RFE            50     0.878621     0.878129  0.823485\n",
      "6     RFE            60     0.898851     0.897257  0.854628\n",
      "7     RFE            80     0.858621     0.857302  0.793060\n",
      "8     RFE           100     0.858851     0.858020  0.794624\n",
      "Best k for RFE: 60\n",
      "[RFE] Test results for k=60 => ACC=0.784, F1=0.783, MCC=0.672\n",
      "\n",
      "=== RANKING: PermImp ===\n",
      "   ranking  num_features  cv_accuracy  cv_f1_macro    cv_mcc\n",
      "0  PermImp             5     0.445517     0.385479  0.148189\n",
      "1  PermImp            10     0.736322     0.733739  0.607244\n",
      "2  PermImp            20     0.749655     0.747602  0.631365\n",
      "3  PermImp            30     0.749655     0.746410  0.624555\n",
      "4  PermImp            40     0.742529     0.735060  0.616108\n",
      "5  PermImp            50     0.735862     0.733937  0.602205\n",
      "6  PermImp            60     0.736092     0.728026  0.604153\n",
      "7  PermImp            80     0.762989     0.749364  0.652307\n",
      "8  PermImp           100     0.756322     0.745753  0.640742\n",
      "Best k for PermImp: 80\n",
      "[PermImp] Test results for k=80 => ACC=0.811, F1=0.814, MCC=0.712\n",
      "\n",
      ">>> Tuning hyperparams for ranking=Filter_MI, k=100\n",
      "Best params for Filter_MI: {'svc__C': 100, 'svc__gamma': 0.001}\n",
      "Best CV score (f1_macro) for Filter_MI: 0.8413\n",
      "\n",
      ">>> Tuning hyperparams for ranking=SVC_coef, k=100\n",
      "Best params for SVC_coef: {'svc__C': 10, 'svc__gamma': 'scale'}\n",
      "Best CV score (f1_macro) for SVC_coef: 0.8860\n",
      "\n",
      ">>> Tuning hyperparams for ranking=RFE, k=100\n",
      "Best params for RFE: {'svc__C': 100, 'svc__gamma': 0.001}\n",
      "Best CV score (f1_macro) for RFE: 0.8774\n",
      "\n",
      ">>> Tuning hyperparams for ranking=PermImp, k=100\n",
      "Best params for PermImp: {'svc__C': 10, 'svc__gamma': 0.01}\n",
      "Best CV score (f1_macro) for PermImp: 0.7970\n",
      "\n",
      "=== Tuned results for each ranking ===\n",
      "     ranking  best_k                            best_params  test_acc_tuned  test_f1_macro_tuned  test_mcc_tuned\n",
      "0  Filter_MI     100   {'svc__C': 100, 'svc__gamma': 0.001}        0.783784             0.779367        0.674279\n",
      "1   SVC_coef     100  {'svc__C': 10, 'svc__gamma': 'scale'}        0.837838             0.845238        0.759389\n",
      "2        RFE     100   {'svc__C': 100, 'svc__gamma': 0.001}        0.648649             0.662169        0.469616\n",
      "3    PermImp     100     {'svc__C': 10, 'svc__gamma': 0.01}        0.837838             0.845238        0.759389\n"
     ]
    }
   ],
   "source": [
    "# Ranking cech z wykorzystaniem SVC\n",
    "svc_ranker = SVCFeatureRankings(data_path=\"all_data.csv\")\n",
    "results_df, tuned_df = svc_ranker.run()"
   ]
  },
  {
   "cell_type": "code",
   "execution_count": null,
   "metadata": {},
   "outputs": [
    {
     "ename": "KeyError",
     "evalue": "'target'",
     "output_type": "error",
     "traceback": [
      "\u001b[1;31m---------------------------------------------------------------------------\u001b[0m",
      "\u001b[1;31mKeyError\u001b[0m                                  Traceback (most recent call last)",
      "File \u001b[1;32mD:\\studia\\magisterka\\myvenv\\Lib\\site-packages\\pandas\\core\\indexes\\base.py:3805\u001b[0m, in \u001b[0;36mIndex.get_loc\u001b[1;34m(self, key)\u001b[0m\n\u001b[0;32m   3804\u001b[0m \u001b[38;5;28;01mtry\u001b[39;00m:\n\u001b[1;32m-> 3805\u001b[0m     \u001b[38;5;28;01mreturn\u001b[39;00m \u001b[38;5;28;43mself\u001b[39;49m\u001b[38;5;241;43m.\u001b[39;49m\u001b[43m_engine\u001b[49m\u001b[38;5;241;43m.\u001b[39;49m\u001b[43mget_loc\u001b[49m\u001b[43m(\u001b[49m\u001b[43mcasted_key\u001b[49m\u001b[43m)\u001b[49m\n\u001b[0;32m   3806\u001b[0m \u001b[38;5;28;01mexcept\u001b[39;00m \u001b[38;5;167;01mKeyError\u001b[39;00m \u001b[38;5;28;01mas\u001b[39;00m err:\n",
      "File \u001b[1;32mindex.pyx:167\u001b[0m, in \u001b[0;36mpandas._libs.index.IndexEngine.get_loc\u001b[1;34m()\u001b[0m\n",
      "File \u001b[1;32mindex.pyx:196\u001b[0m, in \u001b[0;36mpandas._libs.index.IndexEngine.get_loc\u001b[1;34m()\u001b[0m\n",
      "File \u001b[1;32mpandas\\\\_libs\\\\hashtable_class_helper.pxi:7081\u001b[0m, in \u001b[0;36mpandas._libs.hashtable.PyObjectHashTable.get_item\u001b[1;34m()\u001b[0m\n",
      "File \u001b[1;32mpandas\\\\_libs\\\\hashtable_class_helper.pxi:7089\u001b[0m, in \u001b[0;36mpandas._libs.hashtable.PyObjectHashTable.get_item\u001b[1;34m()\u001b[0m\n",
      "\u001b[1;31mKeyError\u001b[0m: 'target'",
      "\nThe above exception was the direct cause of the following exception:\n",
      "\u001b[1;31mKeyError\u001b[0m                                  Traceback (most recent call last)",
      "Cell \u001b[1;32mIn[5], line 1\u001b[0m\n\u001b[1;32m----> 1\u001b[0m pca_shap_ranker \u001b[38;5;241m=\u001b[39m \u001b[43mPCA_SHAP_SVC_Ranker\u001b[49m\u001b[43m(\u001b[49m\u001b[43mdata_path\u001b[49m\u001b[38;5;241;43m=\u001b[39;49m\u001b[38;5;124;43m\"\u001b[39;49m\u001b[38;5;124;43mfinal_features.csv\u001b[39;49m\u001b[38;5;124;43m\"\u001b[39;49m\u001b[43m,\u001b[49m\u001b[43m \u001b[49m\u001b[43mexplained_variance\u001b[49m\u001b[38;5;241;43m=\u001b[39;49m\u001b[38;5;241;43m0.80\u001b[39;49m\u001b[43m)\u001b[49m\n\u001b[0;32m      2\u001b[0m pca_shap_ranker\u001b[38;5;241m.\u001b[39mrun()\n",
      "File \u001b[1;32mD:\\studia\\feature_ranking\\models\\SCV_rankings_classes.py:238\u001b[0m, in \u001b[0;36mPCA_SHAP_SVC_Ranker.__init__\u001b[1;34m(self, data_path, test_size, random_state, explained_variance)\u001b[0m\n\u001b[0;32m    235\u001b[0m \u001b[38;5;28;01mfrom\u001b[39;00m \u001b[38;5;21;01msrc\u001b[39;00m\u001b[38;5;21;01m.\u001b[39;00m\u001b[38;5;21;01mcollect_data\u001b[39;00m \u001b[38;5;28;01mimport\u001b[39;00m load_data\n\u001b[0;32m    237\u001b[0m data \u001b[38;5;241m=\u001b[39m load_data(data_path)\n\u001b[1;32m--> 238\u001b[0m \u001b[38;5;28mself\u001b[39m\u001b[38;5;241m.\u001b[39mdata \u001b[38;5;241m=\u001b[39m \u001b[43mdata_imputation\u001b[49m\u001b[43m(\u001b[49m\u001b[43mdata\u001b[49m\u001b[43m)\u001b[49m\n\u001b[0;32m    240\u001b[0m \u001b[38;5;28mself\u001b[39m\u001b[38;5;241m.\u001b[39mX \u001b[38;5;241m=\u001b[39m \u001b[38;5;28mself\u001b[39m\u001b[38;5;241m.\u001b[39mdata\u001b[38;5;241m.\u001b[39mdrop(columns\u001b[38;5;241m=\u001b[39m[\u001b[38;5;124m\"\u001b[39m\u001b[38;5;124mtarget\u001b[39m\u001b[38;5;124m\"\u001b[39m])\n\u001b[0;32m    241\u001b[0m \u001b[38;5;28mself\u001b[39m\u001b[38;5;241m.\u001b[39my \u001b[38;5;241m=\u001b[39m \u001b[38;5;28mself\u001b[39m\u001b[38;5;241m.\u001b[39mdata[\u001b[38;5;124m\"\u001b[39m\u001b[38;5;124mtarget\u001b[39m\u001b[38;5;124m\"\u001b[39m]\n",
      "File \u001b[1;32mD:\\studia\\feature_ranking\\src\\utils.py:235\u001b[0m, in \u001b[0;36mdata_imputation\u001b[1;34m(data)\u001b[0m\n\u001b[0;32m    233\u001b[0m \u001b[38;5;28;01mdef\u001b[39;00m \u001b[38;5;21mdata_imputation\u001b[39m(data):\n\u001b[0;32m    234\u001b[0m     \u001b[38;5;66;03m# Extract rows for class G1\u001b[39;00m\n\u001b[1;32m--> 235\u001b[0m     df_g1 \u001b[38;5;241m=\u001b[39m data[\u001b[43mdata\u001b[49m\u001b[43m[\u001b[49m\u001b[38;5;124;43m\"\u001b[39;49m\u001b[38;5;124;43mtarget\u001b[39;49m\u001b[38;5;124;43m\"\u001b[39;49m\u001b[43m]\u001b[49m \u001b[38;5;241m==\u001b[39m \u001b[38;5;124m\"\u001b[39m\u001b[38;5;124mG1\u001b[39m\u001b[38;5;124m\"\u001b[39m]\u001b[38;5;241m.\u001b[39mcopy()\n\u001b[0;32m    237\u001b[0m     \u001b[38;5;66;03m# Current number of samples for G1, and the desired number\u001b[39;00m\n\u001b[0;32m    238\u001b[0m     current_size \u001b[38;5;241m=\u001b[39m \u001b[38;5;28mlen\u001b[39m(df_g1)       \u001b[38;5;66;03m# e.g., 22\u001b[39;00m\n",
      "File \u001b[1;32mD:\\studia\\magisterka\\myvenv\\Lib\\site-packages\\pandas\\core\\frame.py:4102\u001b[0m, in \u001b[0;36mDataFrame.__getitem__\u001b[1;34m(self, key)\u001b[0m\n\u001b[0;32m   4100\u001b[0m \u001b[38;5;28;01mif\u001b[39;00m \u001b[38;5;28mself\u001b[39m\u001b[38;5;241m.\u001b[39mcolumns\u001b[38;5;241m.\u001b[39mnlevels \u001b[38;5;241m>\u001b[39m \u001b[38;5;241m1\u001b[39m:\n\u001b[0;32m   4101\u001b[0m     \u001b[38;5;28;01mreturn\u001b[39;00m \u001b[38;5;28mself\u001b[39m\u001b[38;5;241m.\u001b[39m_getitem_multilevel(key)\n\u001b[1;32m-> 4102\u001b[0m indexer \u001b[38;5;241m=\u001b[39m \u001b[38;5;28;43mself\u001b[39;49m\u001b[38;5;241;43m.\u001b[39;49m\u001b[43mcolumns\u001b[49m\u001b[38;5;241;43m.\u001b[39;49m\u001b[43mget_loc\u001b[49m\u001b[43m(\u001b[49m\u001b[43mkey\u001b[49m\u001b[43m)\u001b[49m\n\u001b[0;32m   4103\u001b[0m \u001b[38;5;28;01mif\u001b[39;00m is_integer(indexer):\n\u001b[0;32m   4104\u001b[0m     indexer \u001b[38;5;241m=\u001b[39m [indexer]\n",
      "File \u001b[1;32mD:\\studia\\magisterka\\myvenv\\Lib\\site-packages\\pandas\\core\\indexes\\base.py:3812\u001b[0m, in \u001b[0;36mIndex.get_loc\u001b[1;34m(self, key)\u001b[0m\n\u001b[0;32m   3807\u001b[0m     \u001b[38;5;28;01mif\u001b[39;00m \u001b[38;5;28misinstance\u001b[39m(casted_key, \u001b[38;5;28mslice\u001b[39m) \u001b[38;5;129;01mor\u001b[39;00m (\n\u001b[0;32m   3808\u001b[0m         \u001b[38;5;28misinstance\u001b[39m(casted_key, abc\u001b[38;5;241m.\u001b[39mIterable)\n\u001b[0;32m   3809\u001b[0m         \u001b[38;5;129;01mand\u001b[39;00m \u001b[38;5;28many\u001b[39m(\u001b[38;5;28misinstance\u001b[39m(x, \u001b[38;5;28mslice\u001b[39m) \u001b[38;5;28;01mfor\u001b[39;00m x \u001b[38;5;129;01min\u001b[39;00m casted_key)\n\u001b[0;32m   3810\u001b[0m     ):\n\u001b[0;32m   3811\u001b[0m         \u001b[38;5;28;01mraise\u001b[39;00m InvalidIndexError(key)\n\u001b[1;32m-> 3812\u001b[0m     \u001b[38;5;28;01mraise\u001b[39;00m \u001b[38;5;167;01mKeyError\u001b[39;00m(key) \u001b[38;5;28;01mfrom\u001b[39;00m \u001b[38;5;21;01merr\u001b[39;00m\n\u001b[0;32m   3813\u001b[0m \u001b[38;5;28;01mexcept\u001b[39;00m \u001b[38;5;167;01mTypeError\u001b[39;00m:\n\u001b[0;32m   3814\u001b[0m     \u001b[38;5;66;03m# If we have a listlike key, _check_indexing_error will raise\u001b[39;00m\n\u001b[0;32m   3815\u001b[0m     \u001b[38;5;66;03m#  InvalidIndexError. Otherwise we fall through and re-raise\u001b[39;00m\n\u001b[0;32m   3816\u001b[0m     \u001b[38;5;66;03m#  the TypeError.\u001b[39;00m\n\u001b[0;32m   3817\u001b[0m     \u001b[38;5;28mself\u001b[39m\u001b[38;5;241m.\u001b[39m_check_indexing_error(key)\n",
      "\u001b[1;31mKeyError\u001b[0m: 'target'"
     ]
    }
   ],
   "source": [
    "pca_shap_ranker = PCA_SHAP_SVC_Ranker(data_path=\"all_data.csv\")\n",
    "pca_shap_ranker.run()\n"
   ]
  }
 ],
 "metadata": {
  "kernelspec": {
   "display_name": "Python 3 (ipykernel)",
   "language": "python",
   "name": "python3"
  },
  "language_info": {
   "codemirror_mode": {
    "name": "ipython",
    "version": 3
   },
   "file_extension": ".py",
   "mimetype": "text/x-python",
   "name": "python",
   "nbconvert_exporter": "python",
   "pygments_lexer": "ipython3",
   "version": "3.11.8"
  }
 },
 "nbformat": 4,
 "nbformat_minor": 2
}
